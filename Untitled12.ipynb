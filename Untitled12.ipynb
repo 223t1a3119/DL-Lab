{
  "nbformat": 4,
  "nbformat_minor": 0,
  "metadata": {
    "colab": {
      "provenance": [],
      "authorship_tag": "ABX9TyMGsK+U0p6Y0rmtqcO1+2I4",
      "include_colab_link": true
    },
    "kernelspec": {
      "name": "python3",
      "display_name": "Python 3"
    },
    "language_info": {
      "name": "python"
    }
  },
  "cells": [
    {
      "cell_type": "markdown",
      "metadata": {
        "id": "view-in-github",
        "colab_type": "text"
      },
      "source": [
        "<a href=\"https://colab.research.google.com/github/223t1a3119/DL-Lab/blob/main/Untitled12.ipynb\" target=\"_parent\"><img src=\"https://colab.research.google.com/assets/colab-badge.svg\" alt=\"Open In Colab\"/></a>"
      ]
    },
    {
      "cell_type": "code",
      "execution_count": 8,
      "metadata": {
        "colab": {
          "base_uri": "https://localhost:8080/"
        },
        "id": "HVmWwSq7l1Ob",
        "outputId": "99709d00-0e61-4734-ee65-6dee3cc8e040"
      },
      "outputs": [
        {
          "output_type": "stream",
          "name": "stdout",
          "text": [
            "2 2\n",
            "Enter values:1\n",
            "Enter values:2\n",
            "Enter values:3\n",
            "Enter values:4\n",
            "[[1, 2], [3, 4]]\n",
            "Enter values:5\n",
            "Enter values:6\n",
            "Enter values:7\n",
            "Enter values:8\n",
            "[[5, 6], [7, 8]]\n",
            "[6, 8, 10, 12]\n"
          ]
        }
      ],
      "source": [
        "r,c = map(int,input().split())\n",
        "A = []\n",
        "B = []\n",
        "Res = []\n",
        "for i in range(r):\n",
        "  row =[]\n",
        "  for j in range(c):\n",
        "    val = int(input(\"Enter values:\"))\n",
        "    row.append(val)\n",
        "  A.append(row)\n",
        "print(A)\n",
        "for i in range(r):\n",
        "  row = []\n",
        "  for j in range(c):\n",
        "    val = int(input(\"Enter values:\"))\n",
        "    row.append(val)\n",
        "  B.append(row)\n",
        "print(B)\n",
        "for i in range (r):\n",
        "  for j in range (c):\n",
        "    Res.append(A[i][j]+B[i][j])\n",
        "print(Res)\n"
      ]
    },
    {
      "cell_type": "code",
      "source": [],
      "metadata": {
        "id": "zehS7LlvsBma"
      },
      "execution_count": null,
      "outputs": []
    }
  ]
}