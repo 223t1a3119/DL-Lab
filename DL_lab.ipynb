{
  "nbformat": 4,
  "nbformat_minor": 0,
  "metadata": {
    "colab": {
      "provenance": [],
      "authorship_tag": "ABX9TyPtWSbDTJGslPkJqhxCBm3X",
      "include_colab_link": true
    },
    "kernelspec": {
      "name": "python3",
      "display_name": "Python 3"
    },
    "language_info": {
      "name": "python"
    }
  },
  "cells": [
    {
      "cell_type": "markdown",
      "metadata": {
        "id": "view-in-github",
        "colab_type": "text"
      },
      "source": [
        "<a href=\"https://colab.research.google.com/github/223t1a3119/DL-Lab/blob/main/DL_lab.ipynb\" target=\"_parent\"><img src=\"https://colab.research.google.com/assets/colab-badge.svg\" alt=\"Open In Colab\"/></a>"
      ]
    },
    {
      "cell_type": "code",
      "execution_count": null,
      "metadata": {
        "colab": {
          "base_uri": "https://localhost:8080/"
        },
        "id": "HVmWwSq7l1Ob",
        "outputId": "99709d00-0e61-4734-ee65-6dee3cc8e040"
      },
      "outputs": [
        {
          "output_type": "stream",
          "name": "stdout",
          "text": [
            "2 2\n",
            "Enter values:1\n",
            "Enter values:2\n",
            "Enter values:3\n",
            "Enter values:4\n",
            "[[1, 2], [3, 4]]\n",
            "Enter values:5\n",
            "Enter values:6\n",
            "Enter values:7\n",
            "Enter values:8\n",
            "[[5, 6], [7, 8]]\n",
            "[6, 8, 10, 12]\n"
          ]
        }
      ],
      "source": [
        "r,c = map(int,input().split())\n",
        "A = []\n",
        "B = []\n",
        "Res = []\n",
        "for i in range(r):\n",
        "  row =[]\n",
        "  for j in range(c):\n",
        "    val = int(input(\"Enter values:\"))\n",
        "    row.append(val)\n",
        "  A.append(row)\n",
        "print(A)\n",
        "for i in range(r):\n",
        "  row = []\n",
        "  for j in range(c):\n",
        "    val = int(input(\"Enter values:\"))\n",
        "    row.append(val)\n",
        "  B.append(row)\n",
        "print(B)\n",
        "for i in range (r):\n",
        "  for j in range (c):\n",
        "    Res.append(A[i][j]+B[i][j])\n",
        "print(Res)\n"
      ]
    },
    {
      "cell_type": "code",
      "source": [
        "r,c = map(int,input().split())\n",
        "A = []\n",
        "for i in range(r):\n",
        "  arr = list(map(int,input().split()))\n",
        "  A.append(arr)\n",
        "for i in range (c):\n",
        "  for j in range (r):\n",
        "    print(A[j][i], end = \" \")\n",
        "  print()"
      ],
      "metadata": {
        "colab": {
          "base_uri": "https://localhost:8080/"
        },
        "id": "581SKC3cIBx-",
        "outputId": "eee502c8-7cb7-45a1-bbed-6587e5d8fe5f"
      },
      "execution_count": null,
      "outputs": [
        {
          "output_type": "stream",
          "name": "stdout",
          "text": [
            "2 3\n",
            "1 2 3\n",
            "4 5 6\n",
            "1 4 \n",
            "2 5 \n",
            "3 6 \n"
          ]
        }
      ]
    },
    {
      "cell_type": "code",
      "source": [
        "n1,n2 = map(int,input().split())\n",
        "A = []\n",
        "for i in range(n1):\n",
        "  row= list(map(int,input().split()))\n",
        "  A.append(row)\n",
        "m1,m2 = map(int,input().split())\n",
        "B =[]\n",
        "for i in range(m1):\n",
        "  row = list(map(int,input().split()))\n",
        "  B.append(row)\n",
        "C = [[0]*m2 for _ in range(n1)]\n",
        "for i in range(n1):\n",
        "  for j in range(m2):\n",
        "    C[i][j] = sum(A[i][k]*B[k][j] for k in range(n2))\n",
        "for row in C:\n",
        "  print(' '.join(map(str,row)))"
      ],
      "metadata": {
        "id": "mVPazrKxxvSa",
        "outputId": "438c7b75-1184-44aa-b22c-f13e1113c951",
        "colab": {
          "base_uri": "https://localhost:8080/"
        }
      },
      "execution_count": 1,
      "outputs": [
        {
          "output_type": "stream",
          "name": "stdout",
          "text": [
            "2 2\n",
            "1 2\n",
            "3 -1\n",
            "2 3\n",
            "1 -2 3\n",
            "2 3 -1\n",
            "5 4 1\n",
            "1 -9 10\n"
          ]
        }
      ]
    },
    {
      "cell_type": "code",
      "source": [],
      "metadata": {
        "id": "E5KqhnJrwM_z"
      },
      "execution_count": null,
      "outputs": []
    },
    {
      "cell_type": "code",
      "source": [
        "r,c = map(int,input().split())\n",
        "A = []\n",
        "B = []\n",
        "Res = []\n",
        "for i in range(r):\n",
        "  row =[]\n",
        "  for j in range(c):\n",
        "    val = int(input(\"Enter values:\"))\n",
        "    row.append(val)\n",
        "  A.append(row)\n",
        "print(A)\n",
        "for i in range(r):\n",
        "  row = []\n",
        "  for j in range(c):\n",
        "    val = int(input(\"Enter values:\"))\n",
        "    row.append(val)\n",
        "  B.append(row)\n",
        "print(B)\n",
        "for i in range (r):\n",
        "  for j in range (c):\n",
        "    Res.append(A[i][j]-B[i][j])\n",
        "print(Res)"
      ],
      "metadata": {
        "colab": {
          "base_uri": "https://localhost:8080/"
        },
        "id": "zehS7LlvsBma",
        "outputId": "e6988c70-b6e6-4136-9ddd-6b74ec1c7cf9"
      },
      "execution_count": null,
      "outputs": [
        {
          "output_type": "stream",
          "name": "stdout",
          "text": [
            "2 2\n",
            "Enter values:9\n",
            "Enter values:8\n",
            "Enter values:7\n",
            "Enter values:6\n",
            "[[9, 8], [7, 6]]\n",
            "Enter values:1\n",
            "Enter values:2\n",
            "Enter values:3\n",
            "Enter values:4\n",
            "[[1, 2], [3, 4]]\n",
            "[8, 6, 4, 2]\n"
          ]
        }
      ]
    }
  ]
}